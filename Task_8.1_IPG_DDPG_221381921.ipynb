{
 "cells": [
  {
   "cell_type": "code",
   "execution_count": 1,
   "metadata": {
    "colab": {
     "base_uri": "https://localhost:8080/"
    },
    "id": "n1xgF98QyT6L",
    "outputId": "b5754ef2-2650-4f9f-abfa-a7346b1e34aa"
   },
   "outputs": [
    {
     "name": "stderr",
     "output_type": "stream",
     "text": [
      "/usr/local/lib/python3.10/dist-packages/tensorflow_probability/python/__init__.py:57: DeprecationWarning: distutils Version classes are deprecated. Use packaging.version instead.\n",
      "  if (distutils.version.LooseVersion(tf.__version__) <\n"
     ]
    }
   ],
   "source": [
    "import gym\n",
    "import numpy as np\n",
    "import tensorflow as tf\n",
    "import tensorflow_probability as tfp\n",
    "import tensorflow.keras.backend as K\n",
    "from tensorflow import keras\n",
    "from tensorflow.keras import layers\n",
    "from collections import deque\n",
    "import os\n",
    "import datetime\n",
    "import random\n",
    "import tensorflow as tf\n",
    "from tensorflow.keras import layers\n",
    "import matplotlib.pyplot as plt"
   ]
  },
  {
   "cell_type": "code",
   "execution_count": 2,
   "metadata": {
    "colab": {
     "base_uri": "https://localhost:8080/"
    },
    "id": "18Hsu9QacC1v",
    "outputId": "9e35a085-5561-4177-f33a-9571a6fb23be"
   },
   "outputs": [
    {
     "name": "stderr",
     "output_type": "stream",
     "text": [
      "/usr/local/lib/python3.10/dist-packages/ipykernel/ipkernel.py:283: DeprecationWarning: `should_run_async` will not call `transform_cell` automatically in the future. Please pass the result to `transformed_cell` argument and any exception that happen during thetransform in `preprocessing_exc_tuple` in IPython 7.17 and above.\n",
      "  and should_run_async(code)\n"
     ]
    }
   ],
   "source": [
    "tf.keras.backend.set_floatx('float32')"
   ]
  },
  {
   "cell_type": "code",
   "execution_count": 3,
   "metadata": {
    "id": "doLcF83yLLBt"
   },
   "outputs": [],
   "source": [
    "tf.compat.v1.logging.set_verbosity(tf.compat.v1.logging.ERROR)"
   ]
  },
  {
   "cell_type": "code",
   "execution_count": 4,
   "metadata": {
    "colab": {
     "base_uri": "https://localhost:8080/"
    },
    "id": "hToyQSrUyg0e",
    "outputId": "e32645ce-33bb-45e7-b9ad-220e17b66a02"
   },
   "outputs": [
    {
     "name": "stdout",
     "output_type": "stream",
     "text": [
      "Size of State Space ->  3\n",
      "Size of Action Space ->  1\n",
      "Max Value of Action ->  2.0\n",
      "Min Value of Action ->  -2.0\n"
     ]
    },
    {
     "name": "stderr",
     "output_type": "stream",
     "text": [
      "/usr/local/lib/python3.10/dist-packages/gym/core.py:317: DeprecationWarning: \u001b[33mWARN: Initializing wrapper in old step API which returns one bool instead of two. It is recommended to set `new_step_api=True` to use new step API. This will be the default behaviour in future.\u001b[0m\n",
      "  deprecation(\n",
      "/usr/local/lib/python3.10/dist-packages/gym/wrappers/step_api_compatibility.py:39: DeprecationWarning: \u001b[33mWARN: Initializing environment in old step API which returns one bool instead of two. It is recommended to set `new_step_api=True` to use new step API. This will be the default behaviour in future.\u001b[0m\n",
      "  deprecation(\n"
     ]
    }
   ],
   "source": [
    "problem = \"Pendulum-v1\"\n",
    "env = gym.make(problem)\n",
    "\n",
    "num_states = env.observation_space.shape[0]\n",
    "print(\"Size of State Space ->  {}\".format(num_states))\n",
    "num_actions = env.action_space.shape[0]\n",
    "print(\"Size of Action Space ->  {}\".format(num_actions))\n",
    "\n",
    "upper_bound = env.action_space.high[0]\n",
    "lower_bound = env.action_space.low[0]\n",
    "\n",
    "print(\"Max Value of Action ->  {}\".format(upper_bound))\n",
    "print(\"Min Value of Action ->  {}\".format(lower_bound))"
   ]
  },
  {
   "cell_type": "code",
   "execution_count": 5,
   "metadata": {
    "id": "hGtnHeMDymG6"
   },
   "outputs": [],
   "source": [
    "class OUActionNoise:\n",
    "    def __init__(self, mean, std_deviation, theta=0.15, dt=1e-2, x_initial=None):\n",
    "        self.theta = theta\n",
    "        self.mean = mean\n",
    "        self.std_dev = std_deviation\n",
    "        self.dt = dt\n",
    "        self.x_initial = x_initial\n",
    "        self.reset()\n",
    "\n",
    "    def __call__(self):\n",
    "        # Formula taken from https://www.wikipedia.org/wiki/Ornstein-Uhlenbeck_process.\n",
    "        x = (\n",
    "            self.x_prev\n",
    "            + self.theta * (self.mean - self.x_prev) * self.dt\n",
    "            + self.std_dev * np.sqrt(self.dt) * np.random.normal(size=self.mean.shape)\n",
    "        )\n",
    "        \n",
    "        self.x_prev = x\n",
    "        return x\n",
    "\n",
    "    def reset(self):\n",
    "        if self.x_initial is not None:\n",
    "            self.x_prev = self.x_initial\n",
    "        else:\n",
    "            self.x_prev = np.zeros_like(self.mean)"
   ]
  },
  {
   "cell_type": "code",
   "execution_count": 6,
   "metadata": {
    "id": "k2O1mY16Wz6n"
   },
   "outputs": [],
   "source": [
    "problem = \"Pendulum-v1\"\n",
    "env = gym.make(problem)\n",
    "\n",
    "env = env\n",
    "SEASONS = 1000\n",
    "episode = 0\n",
    "replay_count = 0\n",
    "success_value = 70\n",
    "lr_a = 0.0002\n",
    "lr_c = 0.0002\n",
    "epochs = 10\n",
    "training_batch = 1024\n",
    "batch_size = 128\n",
    "epsilon = 0.2\n",
    "gamma = 0.993\n",
    "lmbda = 0.7\n",
    "std_dev = 0.2\n",
    "ou_noise = OUActionNoise(mean=np.zeros(1), std_deviation=float(std_dev) * np.ones(1))\n",
    "critic_optimizer = tf.keras.optimizers.Adam(lr_a)\n",
    "actor_optimizer = tf.keras.optimizers.Adam(lr_c)\n",
    "baseline_optimizer = tf.keras.optimizers.Adam(lr_c)\n",
    "total_episodes = 100\n",
    "gamma = 0.99\n",
    "tau = 0.005"
   ]
  },
  {
   "cell_type": "code",
   "execution_count": 7,
   "metadata": {
    "id": "4OSy8qj2zylK"
   },
   "outputs": [],
   "source": [
    "def get_actor(env):\n",
    "    state_size = env.observation_space.shape\n",
    "    action_size = env.action_space.shape[0]\n",
    "    last_init = tf.random_uniform_initializer(minval=-0.003, maxval=0.003)\n",
    "\n",
    "    inputs = tf.keras.layers.Input(shape = state_size)\n",
    "    out = layers.Dense(256, activation=\"relu\")(inputs)\n",
    "    out = layers.Dense(256, activation=\"relu\")(out)\n",
    "    outputs = layers.Dense(1, activation=\"tanh\", kernel_initializer=last_init)(out)\n",
    "\n",
    "    outputs = outputs * upper_bound\n",
    "    model = tf.keras.Model(inputs, outputs)\n",
    "    return model"
   ]
  },
  {
   "cell_type": "code",
   "execution_count": 8,
   "metadata": {
    "id": "ErWaVoKP2JAH"
   },
   "outputs": [],
   "source": [
    "def train_actor(states, advantages, actions, actor, epsilon, \n",
    "                action_size, optimizer, old_pi, critic, b, s_batch):\n",
    "      with tf.GradientTape() as tape:\n",
    "        mean = tf.squeeze(actor(states))\n",
    "\n",
    "        logstd = tf.Variable(np.zeros(shape=env.action_space.shape[0], \n",
    "                                      dtype=np.float32))\n",
    "        std = tf.squeeze(tf.exp(logstd))\n",
    "        new_pi = tfp.distributions.Normal(mean, std)\n",
    "\n",
    "        ratio = tf.exp(new_pi.log_prob(tf.squeeze(actions)) -\n",
    "                          old_pi.log_prob(tf.squeeze(actions)))\n",
    "\n",
    "        adv_stack = tf.stack([advantages for _ in range(action_size)], axis=1)\n",
    "        p1 = ratio * adv_stack\n",
    "        p2 = tf.clip_by_value(ratio, 1. - epsilon, 1. + epsilon) * adv_stack\n",
    "        ppo_loss = K.mean(K.minimum(p1, p2))\n",
    "\n",
    "        mean_off = actor(s_batch)\n",
    "        q_values = critic([s_batch, mean_off])\n",
    "        sum_q_values = K.sum(K.mean(q_values))\n",
    "        off_loss = ((b / len(s_batch)) * sum_q_values)\n",
    "\n",
    "        actor_loss = -tf.reduce_sum(ppo_loss + off_loss)\n",
    "        actor_weights = actor.trainable_variables\n",
    "\n",
    "        actor_grad = tape.gradient(actor_loss, actor_weights)\n",
    "        optimizer.apply_gradients(zip(actor_grad, actor_weights))\n",
    "\n",
    "        return actor_loss.numpy()"
   ]
  },
  {
   "cell_type": "code",
   "execution_count": 9,
   "metadata": {
    "id": "rA85MAafz7Tk"
   },
   "outputs": [],
   "source": [
    "def get_critic(env):\n",
    "    state_size = env.observation_space.shape\n",
    "    action_size = env.action_space.shape[0]\n",
    "    upper_bound = env.action_space.high[0]\n",
    "    lr = 0.0002 \n",
    "    gamma = 0.993\n",
    "    train_step_count = 0\n",
    "    optimizer = tf.keras.optimizers.Adam(lr)\n",
    "\n",
    "    state_input = layers.Input(shape=state_size)\n",
    "    state_out = layers.Dense(16, activation=\"relu\")(state_input)\n",
    "    state_out = layers.Dense(32, activation=\"relu\")(state_out)\n",
    "\n",
    "    action_input = layers.Input(shape=(action_size))\n",
    "    action_out = layers.Dense(32, activation=\"relu\")(action_input)\n",
    "\n",
    "    concat = layers.Concatenate()([state_out, action_out])\n",
    "\n",
    "    out = layers.Dense(256, activation=\"relu\")(concat)\n",
    "    out = layers.Dense(256, activation=\"relu\")(out)\n",
    "    outputs = layers.Dense(1)(out)\n",
    "\n",
    "    model = tf.keras.Model([state_input, action_input], outputs)\n",
    "    \n",
    "    return model"
   ]
  },
  {
   "cell_type": "code",
   "execution_count": 10,
   "metadata": {
    "id": "5j1DFRVTG00q"
   },
   "outputs": [],
   "source": [
    "def train_critic(state_batch, action_batch, critic, optimizer, y):\n",
    "      with tf.GradientTape() as tape:\n",
    "        critic_weights = critic.trainable_variables\n",
    "        critic_value = critic([state_batch, action_batch])\n",
    "        critic_loss = tf.math.reduce_mean(tf.square(y - critic_value))\n",
    "\n",
    "        critic_grad = tape.gradient(critic_loss, critic_weights)\n",
    "        optimizer.apply_gradients(zip(critic_grad, critic_weights))\n",
    "        return critic_loss"
   ]
  },
  {
   "cell_type": "code",
   "execution_count": 11,
   "metadata": {
    "id": "9-bwsRgQz_NZ"
   },
   "outputs": [],
   "source": [
    "def get_baseline(env):\n",
    "    state_size = env.observation_space.shape\n",
    "    action_size = env.action_space.shape[0]\n",
    "\n",
    "    lr = 0.0002\n",
    "    optimizer = tf.keras.optimizers.Adam(lr)\n",
    "\n",
    "    state_input = tf.keras.layers.Input(shape=state_size)\n",
    "    f = tf.keras.layers.Dense(128, activation=\"relu\", trainable=True)(state_input)\n",
    "\n",
    "    out = tf.keras.layers.Dense(128, activation=\"relu\", trainable=True)(f)\n",
    "    out = tf.keras.layers.Dense(64, activation=\"relu\", trainable=True)(out)\n",
    "    out = tf.keras.layers.Dense(32, activation=\"relu\", trainable=True)(out)\n",
    "    net_out = tf.keras.layers.Dense(1, trainable=True)(out)\n",
    "\n",
    "    model = tf.keras.Model(inputs=state_input, outputs=net_out)\n",
    "\n",
    "    return model"
   ]
  },
  {
   "cell_type": "code",
   "execution_count": 12,
   "metadata": {
    "id": "htE8EGoV5kQF"
   },
   "outputs": [],
   "source": [
    "def train_baseline(states, baseline, optimizer, returns):\n",
    "    \n",
    "  with tf.GradientTape() as tape:\n",
    "      critic_weights = baseline.trainable_variables\n",
    "      critic_values = baseline(states)\n",
    "      critic_loss = tf.math.reduce_mean(tf.square(returns - critic_values))\n",
    "\n",
    "  critic_grad = tape.gradient(critic_loss, critic_weights)\n",
    "  optimizer.apply_gradients(zip(critic_grad, critic_weights))\n",
    "  return critic_loss.numpy()\n"
   ]
  },
  {
   "cell_type": "code",
   "execution_count": 13,
   "metadata": {
    "id": "_lq1sVbp0Cjh"
   },
   "outputs": [],
   "source": [
    "def policy(actor, state, noise_object):\n",
    "    sampled_actions = tf.squeeze(actor(state))\n",
    "    noise = noise_object()\n",
    "\n",
    "    sampled_actions = sampled_actions.numpy() + noise\n",
    "\n",
    "    legal_action = np.clip(sampled_actions, lower_bound, upper_bound)\n",
    "    return [np.squeeze(legal_action)]"
   ]
  },
  {
   "cell_type": "code",
   "execution_count": 14,
   "metadata": {
    "id": "_p0pD35-0IWd"
   },
   "outputs": [],
   "source": [
    "def compute_advantages(baseline, r_batch, s_batch, ns_batch, d_batch):\n",
    "  gamma = 0.99\n",
    "  lmbda = 0.7\n",
    "\n",
    "  s_values = tf.squeeze(baseline(s_batch))\n",
    "  ns_values = tf.squeeze(baseline(ns_batch))\n",
    "  returns = []\n",
    "  gae = 0\n",
    "  for i in reversed(range(len(r_batch))):\n",
    "      delta = r_batch[i] + gamma * ns_values[i] * (1 - d_batch[i]) - s_values[i]\n",
    "      gae = delta + gamma * lmbda * (1 - d_batch[i]) * gae\n",
    "      returns.insert(0, gae + s_values[i])\n",
    "\n",
    "  returns = np.array(returns)\n",
    "  # Q - V\n",
    "  adv = returns - s_values.numpy()  \n",
    "  adv = (adv - np.mean(adv)) / (np.std(adv) + 1e-10)\n",
    "  return adv, returns"
   ]
  },
  {
   "cell_type": "code",
   "execution_count": 15,
   "metadata": {
    "id": "5F6fc02Q0Mug"
   },
   "outputs": [],
   "source": [
    "def compute_targets(actor, critic, r_batch, ns_batch, d_batch):\n",
    "  gamma = np.float32(0.99)\n",
    "  mean = actor(ns_batch)\n",
    "\n",
    "  target_critic_1 = critic([ns_batch, mean])\n",
    "\n",
    "  r_batch = tf.cast(r_batch, dtype=tf.float32)\n",
    "  d_batch = tf.cast(d_batch, dtype=tf.float32)\n",
    "  target_critic_1 = tf.cast(target_critic_1, dtype=tf.float32)\n",
    "\n",
    "  y = r_batch + gamma * (1 - d_batch) * target_critic_1\n",
    "  return y"
   ]
  },
  {
   "cell_type": "code",
   "execution_count": 16,
   "metadata": {
    "id": "ChDdaICZ0QlJ"
   },
   "outputs": [],
   "source": [
    "def compute_adv_bar(actor, critic, s_batch, a_batch):\n",
    "  mean = actor(s_batch)\n",
    "  x = tf.squeeze(a_batch) - tf.squeeze(mean)\n",
    "  y = tf.squeeze(critic([s_batch, mean]))\n",
    "  adv_bar = y * x\n",
    "\n",
    "  return adv_bar"
   ]
  },
  {
   "cell_type": "code",
   "execution_count": 17,
   "metadata": {
    "id": "W9K_xRXR0VSH"
   },
   "outputs": [],
   "source": [
    "def replay(actor, critic, baseline, states, actions, rewards, dones, next_states):\n",
    "\n",
    "  a_loss_list = []\n",
    "  c_loss_list = []\n",
    "\n",
    "  n_split = len(rewards)\n",
    "\n",
    "  states = tf.convert_to_tensor(states, dtype=tf.float32)\n",
    "  actions = tf.convert_to_tensor(actions, dtype=tf.float32)\n",
    "  rewards = tf.convert_to_tensor(rewards, dtype=tf.float32)\n",
    "  dones = tf.convert_to_tensor(dones, dtype=tf.float32)\n",
    "  next_states = tf.convert_to_tensor(next_states, dtype=tf.float32)\n",
    "  advantages, returns = compute_advantages(baseline, rewards, states, next_states, dones)\n",
    "\n",
    "  b = 0\n",
    "  use_CV = False\n",
    "  v = 0.2\n",
    "  if use_CV:\n",
    "      adv_bar = compute_adv_bar(states, actions)\n",
    "      ls = advantages - adv_bar\n",
    "      b = 1\n",
    "  else:\n",
    "      ls = advantages\n",
    "      b = v\n",
    "\n",
    "  ls *= (1 - v)\n",
    "\n",
    "  s_split = tf.split(states, n_split)\n",
    "  a_split = tf.split(actions, n_split)\n",
    "  t_split = tf.split(returns, n_split)\n",
    "  adv_split = tf.split(advantages, n_split)\n",
    "  ls_split = tf.split(ls, n_split)\n",
    "  indexes = np.arange(n_split, dtype=int)\n",
    "\n",
    "\n",
    "  mean = tf.squeeze(actor(states))\n",
    "  logstd = tf.Variable(np.zeros(shape=env.action_space.shape[0], dtype=np.float32))\n",
    "  std = tf.squeeze(tf.exp(logstd))\n",
    "  pi = tfp.distributions.Normal(mean, std)\n",
    "\n",
    "  a_loss, c_loss = 0, 0\n",
    "\n",
    "  np.random.shuffle(indexes)\n",
    "  for _ in range(epochs):\n",
    "      s_batch, a_batch, r_batch, ns_batch, d_batch = buffer.sample()\n",
    "      for i in indexes:\n",
    "          old_pi = pi[i * batch_size: (i + 1) * batch_size]\n",
    "          a_loss = train_actor(s_split[i], ls_split[i], a_split[i], actor, 0.2, num_actions, actor_optimizer, old_pi, critic, b, s_batch)\n",
    "          a_loss_list.append(a_loss)\n",
    "          v_loss = train_baseline(s_split[i], baseline, baseline_optimizer, t_split[i])\n",
    "\n",
    "      y = compute_targets(actor, critic, r_batch, ns_batch, d_batch)\n",
    "      c_loss = train_critic(s_batch, a_batch, critic, critic_optimizer, y)\n",
    "\n",
    "      c_loss_list.append(c_loss)\n",
    "\n",
    "      return np.mean(a_loss_list), np.mean(c_loss_list)"
   ]
  },
  {
   "cell_type": "code",
   "execution_count": 18,
   "metadata": {
    "id": "umrPyfIQ6UJn"
   },
   "outputs": [],
   "source": [
    "# Validation Routine\n",
    "def validate(self, env, max_eps=50):\n",
    "  ep_reward_list = []\n",
    "  for ep in range(max_eps):\n",
    "      if self.is_mujo:\n",
    "          state = env.reset()[\"observation\"]\n",
    "      else:\n",
    "          state = env.reset()\n",
    "          state = np.asarray(state, dtype=np.float32)\n",
    "      t = 0\n",
    "      ep_reward = 0\n",
    "      while True:\n",
    "          action = policy(actor, tf_prev_state, ou_noise)\n",
    "          next_obsv, reward, done, _ = env.step(action)\n",
    "          next_state = np.asarray(next_obsv, dtype=np.float32)\n",
    "          state = next_state\n",
    "          ep_reward += reward\n",
    "          t += 1\n",
    "          if done:\n",
    "              ep_reward_list.append(ep_reward)\n",
    "              break\n",
    "\n",
    "  mean_ep_reward = np.mean(ep_reward_list)\n",
    "  return mean_ep_reward"
   ]
  },
  {
   "cell_type": "code",
   "execution_count": 19,
   "metadata": {
    "id": "vTxDPBzAyylu"
   },
   "outputs": [],
   "source": [
    "class Buffer:\n",
    "    def __init__(self, actor, critic, buffer_capacity=100000, batch_size=64):\n",
    "        self.buffer_capacity = buffer_capacity\n",
    "        self.batch_size = batch_size\n",
    "\n",
    "        self.buffer_counter = 0\n",
    "\n",
    "        self.state_buffer = np.zeros((self.buffer_capacity, num_states))\n",
    "        self.action_buffer = np.zeros((self.buffer_capacity, num_actions))\n",
    "        self.reward_buffer = np.zeros((self.buffer_capacity, 1))\n",
    "        self.next_state_buffer = np.zeros((self.buffer_capacity, num_states))\n",
    "        self.done_batch = np.zeros((self.buffer_capacity, num_states))\n",
    "\n",
    "\n",
    "    def record(self, obs_tuple):\n",
    "        index = self.buffer_counter % self.buffer_capacity\n",
    "\n",
    "        self.state_buffer[index] = obs_tuple[0]\n",
    "        self.action_buffer[index] = obs_tuple[1]\n",
    "        self.reward_buffer[index] = obs_tuple[2]\n",
    "        self.next_state_buffer[index] = obs_tuple[3]\n",
    "        self.done_batch[index] = obs_tuple[4]\n",
    "\n",
    "        self.buffer_counter += 1\n",
    "\n",
    "    @tf.function\n",
    "    def update(\n",
    "        self, state_batch, action_batch, reward_batch, next_state_batch,\n",
    "    ):\n",
    "\n",
    "        with tf.GradientTape() as tape:\n",
    "            target_actions = target_actor(next_state_batch, training=True)\n",
    "            y = reward_batch + gamma * target_critic(\n",
    "                [next_state_batch, target_actions], training=True\n",
    "            )\n",
    "            critic_value = critic([state_batch, action_batch], training=True)\n",
    "            critic_loss = tf.math.reduce_mean(tf.math.square(y - critic_value))\n",
    "\n",
    "        critic_grad = tape.gradient(critic_loss, critic.trainable_variables)\n",
    "        critic_optimizer.apply_gradients(\n",
    "            zip(critic_grad, critic.trainable_variables)\n",
    "        )\n",
    "\n",
    "        with tf.GradientTape() as tape:\n",
    "            actions = actor(state_batch, training=True)\n",
    "            critic_value = critic([state_batch, actions], training=True)\n",
    "            actor_loss = -tf.math.reduce_mean(critic_value)\n",
    "\n",
    "        actor_grad = tape.gradient(actor_loss, actor.trainable_variables)\n",
    "        actor_optimizer.apply_gradients(\n",
    "            zip(actor_grad, actor.trainable_variables)\n",
    "        )\n",
    "\n",
    "    def learn(self):\n",
    "        record_range = min(self.buffer_counter, self.buffer_capacity)\n",
    "        batch_indices = np.random.choice(record_range, self.batch_size)\n",
    "\n",
    "        state_batch = tf.convert_to_tensor(self.state_buffer[batch_indices])\n",
    "        action_batch = tf.convert_to_tensor(self.action_buffer[batch_indices])\n",
    "        reward_batch = tf.convert_to_tensor(self.reward_buffer[batch_indices])\n",
    "        reward_batch = tf.cast(reward_batch, dtype=tf.float32)\n",
    "        next_state_batch = tf.convert_to_tensor(self.next_state_buffer[batch_indices])\n",
    "\n",
    "        self.update(state_batch, action_batch, reward_batch, next_state_batch)\n",
    "\n",
    "    def sample(self):\n",
    "        record_range = min(self.buffer_counter, self.buffer_capacity)\n",
    "        batch_indices = np.random.choice(record_range, self.batch_size)\n",
    "\n",
    "        state_batch = tf.convert_to_tensor(self.state_buffer[batch_indices])\n",
    "        action_batch = tf.convert_to_tensor(self.action_buffer[batch_indices])\n",
    "        reward_batch = tf.convert_to_tensor(self.reward_buffer[batch_indices])\n",
    "        next_state_batch = tf.convert_to_tensor(self.next_state_buffer[batch_indices])\n",
    "        done_batch = tf.convert_to_tensor(self.done_batch[batch_indices])\n",
    "\n",
    "        return state_batch, action_batch, reward_batch, next_state_batch, done_batch"
   ]
  },
  {
   "cell_type": "code",
   "execution_count": 21,
   "metadata": {
    "id": "c23L5DUO57Oo"
   },
   "outputs": [],
   "source": [
    "def save_model(self, path, actor_filename, critic_filename, baseline_filename):\n",
    "  actor_file = path + actor_filename\n",
    "  critic_file = path + critic_filename\n",
    "  baseline_file = path + baseline_filename\n",
    "  self.actor.save_weights(actor_file)\n",
    "  self.critic.save_weights(critic_file)\n",
    "  self.baseline.save_weights(baseline_file)"
   ]
  },
  {
   "cell_type": "code",
   "execution_count": 22,
   "metadata": {
    "id": "8mw6Z3oZ5-KQ"
   },
   "outputs": [],
   "source": [
    "def load_model(self, path, actor_filename, critic_filename, baseline_filename):\n",
    "  actor_file = path + actor_filename\n",
    "  critic_file = path + critic_filename\n",
    "  baseline_file = path + baseline_filename\n",
    "  self.actor.model.load_weights(actor_file)\n",
    "  self.critic.model.load_weights(critic_file)\n",
    "  self.baseline.model.load_weights(baseline_file)"
   ]
  },
  {
   "cell_type": "code",
   "execution_count": 24,
   "metadata": {
    "id": "ZMF30pcu1Bzx"
   },
   "outputs": [],
   "source": [
    "std_dev = 0.2\n",
    "ou_noise = OUActionNoise(mean=np.zeros(1), std_deviation=float(std_dev) * np.ones(1))\n",
    "\n",
    "actor = get_actor(env)\n",
    "critic = get_critic(env)\n",
    "baseline = get_baseline(env)\n",
    "\n",
    "target_actor = get_actor(env)\n",
    "target_critic = get_critic(env)\n",
    "\n",
    "target_actor.set_weights(actor.get_weights())\n",
    "target_critic.set_weights(critic.get_weights())\n",
    "\n",
    "critic_lr = 0.002\n",
    "actor_lr = 0.001\n",
    "\n",
    "critic_optimizer = tf.keras.optimizers.Adam(critic_lr)\n",
    "actor_optimizer = tf.keras.optimizers.Adam(actor_lr)\n",
    "\n",
    "total_episodes = 100\n",
    "gamma = 0.99\n",
    "tau = 0.005\n",
    "\n",
    "buffer = Buffer(50000, 64)"
   ]
  },
  {
   "cell_type": "code",
   "execution_count": 26,
   "metadata": {
    "colab": {
     "base_uri": "https://localhost:8080/",
     "height": 1000
    },
    "id": "ecrXSlVAAVyO",
    "outputId": "45e80293-c911-42d3-e61b-44a27953cef1"
   },
   "outputs": [
    {
     "name": "stdout",
     "output_type": "stream",
     "text": [
      "Episode * 0 * Avg Reward is ==> -887.4319659723542\n",
      "Episode * 1 * Avg Reward is ==> -1621.5889501912075\n",
      "Episode * 2 * Avg Reward is ==> -1528.846574201716\n",
      "Episode * 3 * Avg Reward is ==> -994.468384171855\n",
      "Episode * 4 * Avg Reward is ==> -1389.449864769489\n",
      "Episode * 5 * Avg Reward is ==> -1257.0851827943468\n",
      "Episode * 6 * Avg Reward is ==> -1176.2907017757475\n",
      "Episode * 7 * Avg Reward is ==> -1318.3158780987826\n",
      "Episode * 8 * Avg Reward is ==> -915.5993996938274\n",
      "Episode * 9 * Avg Reward is ==> -1521.7604565966608\n",
      "Episode * 10 * Avg Reward is ==> -1075.1015346964475\n",
      "Episode * 11 * Avg Reward is ==> -1188.3927155761683\n",
      "Episode * 12 * Avg Reward is ==> -1139.2523078594254\n",
      "Episode * 13 * Avg Reward is ==> -1145.260635097315\n",
      "Episode * 14 * Avg Reward is ==> -1521.7428333666587\n",
      "Episode * 15 * Avg Reward is ==> -1260.5694938525169\n",
      "Episode * 16 * Avg Reward is ==> -1105.9636658709965\n",
      "Episode * 17 * Avg Reward is ==> -1216.673088017887\n",
      "Episode * 18 * Avg Reward is ==> -1024.411385303148\n",
      "Episode * 19 * Avg Reward is ==> -1588.4104988763997\n",
      "Episode * 20 * Avg Reward is ==> -1350.9569233966824\n",
      "Episode * 21 * Avg Reward is ==> -1613.11470278077\n",
      "Episode * 22 * Avg Reward is ==> -1016.418775109369\n",
      "Episode * 23 * Avg Reward is ==> -1426.235764549774\n",
      "Episode * 24 * Avg Reward is ==> -1126.648989267702\n",
      "Episode * 25 * Avg Reward is ==> -1181.28872587878\n",
      "Episode * 26 * Avg Reward is ==> -738.2729339918218\n",
      "Episode * 27 * Avg Reward is ==> -915.4048378787378\n",
      "Episode * 28 * Avg Reward is ==> -748.8713046943341\n",
      "Episode * 29 * Avg Reward is ==> -884.4154503287939\n",
      "Episode * 30 * Avg Reward is ==> -1322.5342458610999\n",
      "Episode * 31 * Avg Reward is ==> -1021.2485490851832\n",
      "Episode * 32 * Avg Reward is ==> -1220.2626344927144\n",
      "Episode * 33 * Avg Reward is ==> -1198.4578000126226\n",
      "Episode * 34 * Avg Reward is ==> -1353.1644145747894\n",
      "Episode * 35 * Avg Reward is ==> -923.1005229033404\n",
      "Episode * 36 * Avg Reward is ==> -1612.1509687847818\n",
      "Episode * 37 * Avg Reward is ==> -1070.0029733901338\n",
      "Episode * 38 * Avg Reward is ==> -690.6175135571905\n",
      "Episode * 39 * Avg Reward is ==> -1028.063530625727\n",
      "Episode * 40 * Avg Reward is ==> -829.4843087385776\n",
      "Episode * 41 * Avg Reward is ==> -973.0595641885529\n",
      "Episode * 42 * Avg Reward is ==> -955.2403480820442\n",
      "Episode * 43 * Avg Reward is ==> -790.2755861906801\n",
      "Episode * 44 * Avg Reward is ==> -1309.0952864267492\n",
      "Episode * 45 * Avg Reward is ==> -1260.4171160497012\n",
      "Episode * 46 * Avg Reward is ==> -842.6052126892992\n",
      "Episode * 47 * Avg Reward is ==> -893.0372781627082\n",
      "Episode * 48 * Avg Reward is ==> -1353.2925916997972\n",
      "Episode * 49 * Avg Reward is ==> -1116.5990694974844\n",
      "Episode * 50 * Avg Reward is ==> -1660.77683517995\n",
      "Episode * 51 * Avg Reward is ==> -1159.7016618571147\n",
      "Episode * 52 * Avg Reward is ==> -1626.4628013067836\n",
      "Episode * 53 * Avg Reward is ==> -1182.544702558036\n",
      "Episode * 54 * Avg Reward is ==> -804.4184634035137\n",
      "Episode * 55 * Avg Reward is ==> -964.4834685039416\n",
      "Episode * 56 * Avg Reward is ==> -1281.1766357789834\n",
      "Episode * 57 * Avg Reward is ==> -1314.7444534152376\n",
      "Episode * 58 * Avg Reward is ==> -1628.913033934356\n",
      "Episode * 59 * Avg Reward is ==> -1244.6233532152348\n",
      "Episode * 60 * Avg Reward is ==> -1031.0891308278503\n",
      "Episode * 61 * Avg Reward is ==> -1122.2512110587556\n",
      "Episode * 62 * Avg Reward is ==> -934.5330995474408\n",
      "Episode * 63 * Avg Reward is ==> -1247.1314522585621\n",
      "Episode * 64 * Avg Reward is ==> -707.3104825842844\n",
      "Episode * 65 * Avg Reward is ==> -943.0070220859325\n",
      "Episode * 66 * Avg Reward is ==> -1049.045434719358\n",
      "Episode * 67 * Avg Reward is ==> -1298.9647783026564\n",
      "Episode * 68 * Avg Reward is ==> -1429.2282965562135\n",
      "Episode * 69 * Avg Reward is ==> -1215.2997142318413\n",
      "Episode * 70 * Avg Reward is ==> -1514.9381208379418\n",
      "Episode * 71 * Avg Reward is ==> -1680.7107827433342\n",
      "Episode * 72 * Avg Reward is ==> -799.5843629074182\n",
      "Episode * 73 * Avg Reward is ==> -1437.0015698640295\n",
      "Episode * 74 * Avg Reward is ==> -854.9281878470343\n",
      "Episode * 75 * Avg Reward is ==> -1593.3976499597445\n",
      "Episode * 76 * Avg Reward is ==> -955.5192280197307\n",
      "Episode * 77 * Avg Reward is ==> -1133.435125287276\n",
      "Episode * 78 * Avg Reward is ==> -1605.0981193354107\n",
      "Episode * 79 * Avg Reward is ==> -1611.5882065759918\n",
      "Episode * 80 * Avg Reward is ==> -1248.0148557125672\n",
      "Episode * 81 * Avg Reward is ==> -1121.7661133305883\n",
      "Episode * 82 * Avg Reward is ==> -1365.838637436209\n",
      "Episode * 83 * Avg Reward is ==> -867.1908651429474\n",
      "Episode * 84 * Avg Reward is ==> -919.7579234514117\n",
      "Episode * 85 * Avg Reward is ==> -910.9682768592844\n",
      "Episode * 86 * Avg Reward is ==> -1683.8398727623673\n",
      "Episode * 87 * Avg Reward is ==> -1618.0583693001834\n",
      "Episode * 88 * Avg Reward is ==> -1008.8717810768842\n",
      "Episode * 89 * Avg Reward is ==> -959.8344086942383\n",
      "Episode * 90 * Avg Reward is ==> -1480.7273146763014\n",
      "Episode * 91 * Avg Reward is ==> -1138.432732248012\n",
      "Episode * 92 * Avg Reward is ==> -1146.7797077581567\n",
      "Episode * 93 * Avg Reward is ==> -1514.2639675972248\n",
      "Episode * 94 * Avg Reward is ==> -1311.5442564320615\n",
      "Episode * 95 * Avg Reward is ==> -1225.196890853431\n",
      "Episode * 96 * Avg Reward is ==> -1094.2981190684625\n",
      "Episode * 97 * Avg Reward is ==> -1255.7709851361792\n",
      "Episode * 98 * Avg Reward is ==> -1345.364437167928\n",
      "Episode * 99 * Avg Reward is ==> -905.1491651708899\n"
     ]
    },
    {
     "data": {
      "image/png": "[encoded data removed]",
      "text/plain": [
       "<Figure size 640x480 with 1 Axes>"
      ]
     },
     "metadata": {},
     "output_type": "display_data"
    }
   ],
   "source": [
    "state = env.reset()\n",
    "state = np.asarray(state, dtype=np.float32)\n",
    "done, score = False, 0\n",
    "best_score = -np.inf\n",
    "val_score = -np.inf\n",
    "val_scores = deque(maxlen=50)\n",
    "s = 0\n",
    "s_scores = deque(maxlen=50)\n",
    "\n",
    "avg_reward_list = []\n",
    "\n",
    "for ep in range(100):\n",
    "  state = env.reset()\n",
    "  episodic_reward = 0\n",
    "  s_score = 0\n",
    "  states, next_states, actions, rewards, dones = [], [], [], [], []\n",
    "  ep_reward_list = []\n",
    "  \n",
    "\n",
    "  while True:\n",
    "      tf_prev_state = tf.expand_dims(tf.convert_to_tensor(state), 0)\n",
    "      action = policy(actor, tf_prev_state, ou_noise)\n",
    "      \n",
    "      next_state, reward, done, info = env.step(action)\n",
    "\n",
    "      next_state = np.asarray(next_state, dtype=np.float32)\n",
    "      states.append(state)\n",
    "      next_states.append(next_state)\n",
    "      actions.append(action)\n",
    "      rewards.append(reward)\n",
    "      dones.append(done)\n",
    "\n",
    "      buffer.record((state, action, reward, next_state, done))\n",
    "      episodic_reward += reward\n",
    "\n",
    "      if done:\n",
    "        state, done, score = env.reset(), False, 0\n",
    "        state = np.asarray(state, dtype=np.float32)\n",
    "        break\n",
    "\n",
    "      state = next_state\n",
    "      ep_reward_list.append(episodic_reward)\n",
    "\n",
    "  avg_reward = np.mean(ep_reward_list[-40:])\n",
    "  print(\"Episode * {} * Avg Reward is ==> {}\".format(ep, avg_reward))\n",
    "  avg_reward_list.append(avg_reward)\n",
    "\n",
    "  a_loss, c_loss = replay(actor, critic, baseline, states, actions, rewards, dones, next_states)\n",
    "\n",
    "env.close()\n",
    "\n",
    "plt.plot(avg_reward_list)\n",
    "plt.xlabel(\"Episode\")\n",
    "plt.ylabel(\"Avg. Epsiodic Reward\")\n",
    "plt.show()\n",
    "  "
   ]
  },
  {
   "cell_type": "code",
   "execution_count": null,
   "metadata": {
    "id": "Coir2_DMAV4o"
   },
   "outputs": [],
   "source": []
  },
  {
   "cell_type": "code",
   "execution_count": null,
   "metadata": {
    "id": "O-yvoJjVAV8_"
   },
   "outputs": [],
   "source": []
  },
  {
   "cell_type": "code",
   "execution_count": null,
   "metadata": {
    "id": "wG6oe8aXAWBn"
   },
   "outputs": [],
   "source": []
  }
 ],
 "metadata": {
  "accelerator": "GPU",
  "colab": {
   "gpuType": "T4",
   "provenance": []
  },
  "kernelspec": {
   "display_name": "Python 3 (ipykernel)",
   "language": "python",
   "name": "python3"
  },
  "language_info": {
   "codemirror_mode": {
    "name": "ipython",
    "version": 3
   },
   "file_extension": ".py",
   "mimetype": "text/x-python",
   "name": "python",
   "nbconvert_exporter": "python",
   "pygments_lexer": "ipython3",
   "version": "3.10.10"
  }
 },
 "nbformat": 4,
 "nbformat_minor": 1
}
