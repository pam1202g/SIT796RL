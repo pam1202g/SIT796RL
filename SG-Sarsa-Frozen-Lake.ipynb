{
 "cells": [
  {
   "cell_type": "code",
   "execution_count": 18,
   "id": "01653ab7",
   "metadata": {},
   "outputs": [],
   "source": [
    "%matplotlib inline\n",
    "\n",
    "import gym\n",
    "import matplotlib\n",
    "import numpy as np\n",
    "from tile_coding import IHT, tiles\n",
    "from IPython.display import HTML\n",
    "from gym.envs import toy_text\n",
    "import matplotlib.pyplot as plt"
   ]
  },
  {
   "cell_type": "markdown",
   "id": "20d8b063",
   "metadata": {},
   "source": [
    "### Extending FrozenLake-v0 8x8 for Reward Shaping  "
   ]
  },
  {
   "cell_type": "code",
   "execution_count": 2,
   "id": "6f113941",
   "metadata": {},
   "outputs": [],
   "source": [
    "class RewardShapedFrozenLakeEnv(toy_text.frozen_lake.FrozenLakeEnv):\n",
    "    def __init__(self, **kwargs):\n",
    "        super(RewardShapedFrozenLakeEnv, self).__init__(**kwargs)\n",
    "\n",
    "        for state in range(self.nS):      # for all states\n",
    "            for action in range(self.nA): # for all actions\n",
    "                agent_transitions = []\n",
    "                for (probability, next_state, _, is_terminal_state) in self.P[state][action]:\n",
    "                    row = next_state // self.ncol\n",
    "                    col = next_state - row * self.ncol\n",
    "                    tile_type = self.desc[row, col]\n",
    "                    if tile_type == b'H':\n",
    "                        reward = -0.2\n",
    "                    elif tile_type == b'G':\n",
    "                        reward = 1.\n",
    "                    else:\n",
    "                        reward = 0.0001\n",
    "\n",
    "                    agent_transitions.append((probability, next_state, reward, is_terminal_state))\n",
    "                self.P[state][action] = agent_transitions"
   ]
  },
  {
   "cell_type": "code",
   "execution_count": 3,
   "id": "35fc3584",
   "metadata": {},
   "outputs": [],
   "source": [
    "frozen_lake_env = RewardShapedFrozenLakeEnv(desc=None, map_name=\"8x8\")"
   ]
  },
  {
   "cell_type": "markdown",
   "id": "bc90f0f8",
   "metadata": {},
   "source": [
    "## Semi-Gradient Sarsa(0) for FrozenLake-v0 8x8"
   ]
  },
  {
   "cell_type": "code",
   "execution_count": 4,
   "id": "b1e56f8a",
   "metadata": {},
   "outputs": [],
   "source": [
    "class FrozenLakeQEstimator():\n",
    "    \n",
    "    def __init__(self, step_size, state_space, action_space, num_tilings=8):\n",
    "        self.step_size = step_size\n",
    "        self.max_size = 4096\n",
    "        self.num_tilings = num_tilings\n",
    "        self.action_space = action_space\n",
    "        self.state_space = state_space\n",
    "        self.alpha = step_size / num_tilings\n",
    "        self.iht = IHT(self.max_size)\n",
    "        self.weights = np.zeros(self.max_size)\n",
    "        \n",
    "            \n",
    "    def featurize_state_action(self, state, action):        \n",
    "        featurized = tiles(self.iht, self.num_tilings, [state], [action])\n",
    "        return np.array(featurized)\n",
    "    \n",
    "    \n",
    "    def update(self, state, action, target):\n",
    "        features = self.featurize_state_action(state, action)\n",
    "        estimation = np.sum(self.weights[features])\n",
    "        delta = (target - estimation)\n",
    "        self.weights[features] += self.alpha * delta\n",
    "            \n",
    "    def estimate_value(self, state, action):\n",
    "        features = self.featurize_state_action(state, action)\n",
    "        estimated_value = np.sum(self.weights[features])\n",
    "        return estimated_value\n",
    "\n",
    "    \n",
    "    def get_greedy_action(self, state):\n",
    "        values = []\n",
    "        for action_item in self.action_space:\n",
    "            state_value = self.estimate_value(state, action_item)\n",
    "            values.append(state_value)\n",
    "        \n",
    "        values = np.array(values)\n",
    "        action_index = np.argmax(np.random.random(values.shape) * (values==values.max()))\n",
    "        return self.action_space[action_index]\n",
    "\n",
    "    def get_epsilon_greedy_action(self, state, epsilon):\n",
    "        random_value = np.random.random()\n",
    "        if random_value < 1 - epsilon:\n",
    "            return self.get_greedy_action(state)\n",
    "        \n",
    "        return np.random.choice(self.action_space)"
   ]
  },
  {
   "cell_type": "code",
   "execution_count": 5,
   "id": "6b8161f0",
   "metadata": {},
   "outputs": [],
   "source": [
    "def semi_gradient_sarsa0_(env, estimator, gamma, epsilon_vals, episode_count):\n",
    "\n",
    "    epsilon = epsilon_vals[0]\n",
    "    rewards = []\n",
    "\n",
    "    for episode in range(episode_count):\n",
    "        state = env.reset()\n",
    "        action = estimator.get_epsilon_greedy_action(state, epsilon) # select an action\n",
    "\n",
    "        episode_rewards = 0\n",
    "        done = False\n",
    "\n",
    "        while not done:\n",
    "            next_state, reward, done, _ = env.step(action)\n",
    "            \n",
    "            if done:\n",
    "                estimator.update(state, action, reward)\n",
    "                \n",
    "            else:\n",
    "                next_action = estimator.get_epsilon_greedy_action(next_state, epsilon)        \n",
    "                next_step_estimated_value = estimator.estimate_value(next_state, next_action)\n",
    "                target = reward + gamma * next_step_estimated_value\n",
    "                estimator.update(state, action, target)\n",
    "                \n",
    "                state = next_state\n",
    "                action = next_action\n",
    "                episode_rewards += reward      \n",
    "\n",
    "        epsilon = max(epsilon * epsilon_vals[2], epsilon_vals[1]) # epsilon decaying \n",
    "        rewards.append(episode_rewards) # append rewards\n",
    "\n",
    "        if episode % 100 == 0:\n",
    "            print(\"Episode Count\", episode)\n",
    "            print(\"Average rewards every 100 episodes:\", np.mean(rewards[-100:]))   \n",
    "\n",
    "    weights = estimator.weights\n",
    "    return rewards, weights "
   ]
  },
  {
   "cell_type": "code",
   "execution_count": 9,
   "id": "7afb9111",
   "metadata": {},
   "outputs": [
    {
     "name": "stdout",
     "output_type": "stream",
     "text": [
      "Episode Count 0\n",
      "Average rewards every 100 episodes: 0.0014000000000000004\n",
      "Episode Count 100\n",
      "Average rewards every 100 episodes: 0.007646999999999998\n",
      "Episode Count 200\n",
      "Average rewards every 100 episodes: 0.010438999999999999\n",
      "Episode Count 300\n",
      "Average rewards every 100 episodes: 0.00855099999999999\n",
      "Episode Count 400\n",
      "Average rewards every 100 episodes: 0.011044999999999982\n",
      "Episode Count 500\n",
      "Average rewards every 100 episodes: 0.012066999999999994\n",
      "Episode Count 600\n",
      "Average rewards every 100 episodes: 0.012735999999999987\n",
      "Episode Count 700\n",
      "Average rewards every 100 episodes: 0.014556999999999992\n",
      "Episode Count 800\n",
      "Average rewards every 100 episodes: 0.01424999999999999\n",
      "Episode Count 900\n",
      "Average rewards every 100 episodes: 0.014419999999999994\n",
      "Episode Count 1000\n",
      "Average rewards every 100 episodes: 0.01229599999999998\n",
      "Episode Count 1100\n",
      "Average rewards every 100 episodes: 0.013523999999999982\n",
      "Episode Count 1200\n",
      "Average rewards every 100 episodes: 0.02158499999999997\n",
      "Episode Count 1300\n",
      "Average rewards every 100 episodes: 0.021818000000000063\n",
      "Episode Count 1400\n",
      "Average rewards every 100 episodes: 0.019014000000000027\n",
      "Episode Count 1500\n",
      "Average rewards every 100 episodes: 0.014899999999999983\n",
      "Episode Count 1600\n",
      "Average rewards every 100 episodes: 0.02258200000000004\n",
      "Episode Count 1700\n",
      "Average rewards every 100 episodes: 0.028780000000000073\n",
      "Episode Count 1800\n",
      "Average rewards every 100 episodes: 0.027295999999999872\n",
      "Episode Count 1900\n",
      "Average rewards every 100 episodes: 0.031361999999999404\n",
      "Episode Count 2000\n",
      "Average rewards every 100 episodes: 0.019583999999999983\n",
      "Episode Count 2100\n",
      "Average rewards every 100 episodes: 0.03155199999999992\n",
      "Episode Count 2200\n",
      "Average rewards every 100 episodes: 0.037168999999999196\n",
      "Episode Count 2300\n",
      "Average rewards every 100 episodes: 0.028975000000000015\n",
      "Episode Count 2400\n",
      "Average rewards every 100 episodes: 0.03315700000000008\n",
      "Episode Count 2500\n",
      "Average rewards every 100 episodes: 0.030111000000000113\n",
      "Episode Count 2600\n",
      "Average rewards every 100 episodes: 0.021447999999999863\n",
      "Episode Count 2700\n",
      "Average rewards every 100 episodes: 0.027642999999999897\n",
      "Episode Count 2800\n",
      "Average rewards every 100 episodes: 0.016522999999999982\n",
      "Episode Count 2900\n",
      "Average rewards every 100 episodes: 0.03335999999999979\n",
      "Episode Count 3000\n",
      "Average rewards every 100 episodes: 0.019541000000000013\n",
      "Episode Count 3100\n",
      "Average rewards every 100 episodes: 0.026755000000000168\n",
      "Episode Count 3200\n",
      "Average rewards every 100 episodes: 0.022553000000000035\n",
      "Episode Count 3300\n",
      "Average rewards every 100 episodes: 0.016074999999999985\n",
      "Episode Count 3400\n",
      "Average rewards every 100 episodes: 0.0272619999999995\n",
      "Episode Count 3500\n",
      "Average rewards every 100 episodes: 0.04600199999999822\n",
      "Episode Count 3600\n",
      "Average rewards every 100 episodes: 0.03713500000000017\n",
      "Episode Count 3700\n",
      "Average rewards every 100 episodes: 0.022913000000000062\n",
      "Episode Count 3800\n",
      "Average rewards every 100 episodes: 0.029114999999999155\n",
      "Episode Count 3900\n",
      "Average rewards every 100 episodes: 0.027024000000000114\n"
     ]
    }
   ],
   "source": [
    "epsilon_start = 0.1\n",
    "epsilon_end = 0\n",
    "epsilon_decay = 0.999\n",
    "epsilon_vals = (epsilon_start, epsilon_end, epsilon_decay)\n",
    "number_tiles = 8\n",
    "step_size = 0.4\n",
    "\n",
    "est = FrozenLakeQEstimator(step_size, frozen_lake_env.observation_space, [0, 1, 2, 3], number_tiles)\n",
    "\n",
    "# Semi-Gradient SARSA(0)\n",
    "episodic_rewards, weights = semi_gradient_sarsa0_(env = frozen_lake_env, \n",
    "                                                  estimator = est, \n",
    "                                                  gamma = 0.9999, \n",
    "                                                  epsilon_vals=epsilon_vals, \n",
    "                                                  episode_count=4000)"
   ]
  },
  {
   "cell_type": "code",
   "execution_count": 10,
   "id": "3b3e0fc0",
   "metadata": {},
   "outputs": [
    {
     "name": "stdout",
     "output_type": "stream",
     "text": [
      "Average episodic rewards over last 100 episodes: 0.05108299999999779\n"
     ]
    }
   ],
   "source": [
    "print(\"Average episodic rewards over last 100 episodes:\", np.mean(episodic_rewards[-100:]))"
   ]
  },
  {
   "cell_type": "code",
   "execution_count": 35,
   "id": "83bcac90",
   "metadata": {},
   "outputs": [],
   "source": [
    "def plot_values(episode_count, sarsa0_episode_rewards, title):\n",
    "    plt.plot(np.arange(episode_count), sarsa0_episode_rewards[-episode_count:], label='SG sarsa(0) training')\n",
    "    plt.ylim(0.001, 0)\n",
    "    plt.xlim(0, episode_count)\n",
    "    plt.xlabel('Number of Episodes')\n",
    "    plt.ylabel('Total reward episode')\n",
    "    plt.title(title)\n",
    "    plt.legend()\n",
    "    plt.show()"
   ]
  },
  {
   "cell_type": "code",
   "execution_count": 36,
   "id": "c82efc19",
   "metadata": {},
   "outputs": [
    {
     "data": {
      "image/png": "[encoded data removed]",
      "text/plain": [
       "<Figure size 640x480 with 1 Axes>"
      ]
     },
     "metadata": {},
     "output_type": "display_data"
    },
    {
     "name": "stdout",
     "output_type": "stream",
     "text": [
      "\n",
      "\n",
      "Episodic SG sarsa(0)\n",
      "Average reward per episode every 100 episodes: 0.05108299999999779\n"
     ]
    }
   ],
   "source": [
    "plot_values(4000, episodic_rewards, 'Semi-gradient SARSA(0) Rewards')\n",
    "\n",
    "print(\"\")\n",
    "print(\"\\nEpisodic SG sarsa(0)\")\n",
    "print(\"Average reward per episode every 100 episodes:\", np.mean(episodic_rewards[-100:]))"
   ]
  },
  {
   "cell_type": "markdown",
   "id": "1cda55bf",
   "metadata": {},
   "source": [
    "## Semi-Gradient TD $\\large(\\lambda)$"
   ]
  },
  {
   "cell_type": "code",
   "execution_count": 11,
   "id": "d794584c",
   "metadata": {},
   "outputs": [],
   "source": [
    "class FrozenLakeStateValueEstimator():\n",
    "\n",
    "    def __init__(self, step_size, state_space, num_tilings=8):\n",
    "        self.step_size = step_size\n",
    "        self.max_size = 4096\n",
    "        self.num_tilings = num_tilings\n",
    "        self.state_space = state_space\n",
    "        self.alpha = step_size / num_tilings\n",
    "        self.iht = IHT(self.max_size)\n",
    "        self.weights = np.zeros(self.max_size)\n",
    "        self.eligibility_traces = np.zeros(self.max_size)\n",
    "        \n",
    "            \n",
    "    def featurize_state(self, state):        \n",
    "        featurized = tiles(self.iht, self.num_tilings, [state])\n",
    "        return np.array(featurized)\n",
    "    \n",
    "    \n",
    "    def update(self, state, target):\n",
    "        features = self.featurize_state(state)\n",
    "        estimation = np.sum(self.weights[features])\n",
    "        delta = (target - estimation)\n",
    "        self.eligibility_traces[features] = 1\n",
    "        self.weights[features] += self.alpha * delta * self.eligibility_traces[features]\n",
    "            \n",
    "    def estimate_value(self, state):\n",
    "        features = self.featurize_state(state)\n",
    "        estimated_value = np.sum(self.weights[features])\n",
    "        return estimated_value\n",
    "    \n",
    "    def reset_eligibility_traces(self):       \n",
    "        self.eligibility_traces = np.zeros(self.max_size)"
   ]
  },
  {
   "cell_type": "code",
   "execution_count": 12,
   "id": "c044c4ae",
   "metadata": {},
   "outputs": [],
   "source": [
    "def semi_gradient_tdlambda_(env, estimator, gamma, epsilon_vals, episode_count, policy):\n",
    "\n",
    "    epsilon = epsilon_vals[0]\n",
    "    rewards = []\n",
    "\n",
    "    for episode in range(episode_count):\n",
    "\n",
    "        state = env.reset()\n",
    "        action = policy.get_greedy_action(state) \n",
    "        \n",
    "        estimator.reset_eligibility_traces()\n",
    "        episode_rewards = 0\n",
    "        done = False\n",
    "\n",
    "        while not done:\n",
    "\n",
    "            next_state, reward, done, _ = env.step(action)\n",
    "\n",
    "            if done:\n",
    "                estimator.update(state, reward)\n",
    "            \n",
    "            else:\n",
    "                next_action = policy.get_greedy_action(next_state)        \n",
    "                next_step_estimated_value = estimator.estimate_value(next_state)\n",
    "                target = reward + gamma * next_step_estimated_value\n",
    "                estimator.update(state, target)\n",
    "\n",
    "                state = next_state\n",
    "                action = next_action\n",
    "                episode_rewards += reward      \n",
    "\n",
    "        epsilon = max(epsilon * epsilon_vals[2], epsilon_vals[1]) # decay the epsilon\n",
    "\n",
    "        rewards.append(episode_rewards)\n",
    "        \n",
    "        if episode % 100 == 0:\n",
    "            print(\"Episode Count\", episode)\n",
    "            print(\"Average rewards every 100 episodes:\", np.mean(rewards[-100:]))\n",
    "\n",
    "    weights = estimator.weights\n",
    "    return rewards, weights"
   ]
  },
  {
   "cell_type": "code",
   "execution_count": 13,
   "id": "ce8b6275",
   "metadata": {},
   "outputs": [],
   "source": [
    "class Generate_Policy():\n",
    "    def __init__(self):\n",
    "        self.action_space = [0, 1, 2, 3]\n",
    "\n",
    "    def get_greedy_action(self, state, epsilon=0):\n",
    "        action = np.random.choice(self.action_space)\n",
    "        return action"
   ]
  },
  {
   "cell_type": "code",
   "execution_count": 14,
   "id": "ec0533ab",
   "metadata": {},
   "outputs": [
    {
     "name": "stdout",
     "output_type": "stream",
     "text": [
      "Episode Count 0\n",
      "Average rewards every 100 episodes: 0.0024999999999999996\n",
      "Episode Count 100\n",
      "Average rewards every 100 episodes: 0.003206999999999999\n",
      "Episode Count 200\n",
      "Average rewards every 100 episodes: 0.0031810000000000007\n",
      "Episode Count 300\n",
      "Average rewards every 100 episodes: 0.002952\n",
      "Episode Count 400\n",
      "Average rewards every 100 episodes: 0.0034889999999999995\n",
      "Episode Count 500\n",
      "Average rewards every 100 episodes: 0.0030399999999999993\n",
      "Episode Count 600\n",
      "Average rewards every 100 episodes: 0.003041\n",
      "Episode Count 700\n",
      "Average rewards every 100 episodes: 0.0028799999999999993\n",
      "Episode Count 800\n",
      "Average rewards every 100 episodes: 0.0032679999999999996\n",
      "Episode Count 900\n",
      "Average rewards every 100 episodes: 0.002748000000000001\n",
      "Episode Count 1000\n",
      "Average rewards every 100 episodes: 0.002763\n",
      "Episode Count 1100\n",
      "Average rewards every 100 episodes: 0.003080000000000001\n",
      "Episode Count 1200\n",
      "Average rewards every 100 episodes: 0.0028049999999999998\n",
      "Episode Count 1300\n",
      "Average rewards every 100 episodes: 0.0031079999999999997\n",
      "Episode Count 1400\n",
      "Average rewards every 100 episodes: 0.002678999999999999\n",
      "Episode Count 1500\n",
      "Average rewards every 100 episodes: 0.0029189999999999993\n",
      "Episode Count 1600\n",
      "Average rewards every 100 episodes: 0.0029080000000000004\n",
      "Episode Count 1700\n",
      "Average rewards every 100 episodes: 0.002897999999999999\n",
      "Episode Count 1800\n",
      "Average rewards every 100 episodes: 0.0033629999999999997\n",
      "Episode Count 1900\n",
      "Average rewards every 100 episodes: 0.002856000000000001\n",
      "Episode Count 2000\n",
      "Average rewards every 100 episodes: 0.0031100000000000004\n",
      "Episode Count 2100\n",
      "Average rewards every 100 episodes: 0.0033499999999999997\n",
      "Episode Count 2200\n",
      "Average rewards every 100 episodes: 0.0029889999999999995\n",
      "Episode Count 2300\n",
      "Average rewards every 100 episodes: 0.0033479999999999994\n",
      "Episode Count 2400\n",
      "Average rewards every 100 episodes: 0.002975999999999999\n",
      "Episode Count 2500\n",
      "Average rewards every 100 episodes: 0.0031019999999999997\n",
      "Episode Count 2600\n",
      "Average rewards every 100 episodes: 0.0036\n",
      "Episode Count 2700\n",
      "Average rewards every 100 episodes: 0.0033130000000000004\n",
      "Episode Count 2800\n",
      "Average rewards every 100 episodes: 0.003377\n",
      "Episode Count 2900\n",
      "Average rewards every 100 episodes: 0.0038399999999999997\n",
      "Episode Count 3000\n",
      "Average rewards every 100 episodes: 0.0034909999999999997\n",
      "Episode Count 3100\n",
      "Average rewards every 100 episodes: 0.0032880000000000006\n",
      "Episode Count 3200\n",
      "Average rewards every 100 episodes: 0.0030750000000000005\n",
      "Episode Count 3300\n",
      "Average rewards every 100 episodes: 0.0028729999999999993\n",
      "Episode Count 3400\n",
      "Average rewards every 100 episodes: 0.0027600000000000003\n",
      "Episode Count 3500\n",
      "Average rewards every 100 episodes: 0.0033680000000000003\n",
      "Episode Count 3600\n",
      "Average rewards every 100 episodes: 0.0033810000000000003\n",
      "Episode Count 3700\n",
      "Average rewards every 100 episodes: 0.0028770000000000002\n",
      "Episode Count 3800\n",
      "Average rewards every 100 episodes: 0.0030559999999999993\n",
      "Episode Count 3900\n",
      "Average rewards every 100 episodes: 0.0034839999999999993\n"
     ]
    }
   ],
   "source": [
    "tdlambda_step_size = 0.5\n",
    "state_value_estimator = FrozenLakeStateValueEstimator(tdlambda_step_size, frozen_lake_env.observation_space)\n",
    "\n",
    "# Semi-Gradient TD(lambda)\n",
    "sg_tdlambda_rewards, sg_tdlambda_weights = semi_gradient_tdlambda_(\n",
    "                                                env = frozen_lake_env, \n",
    "                                                estimator = state_value_estimator,\n",
    "                                                gamma = 0.9999,\n",
    "                                                epsilon_vals = epsilon_vals,                                               \n",
    "                                                episode_count = 4000,\n",
    "                                                policy = Generate_Policy())"
   ]
  },
  {
   "cell_type": "code",
   "execution_count": 15,
   "id": "05785032",
   "metadata": {},
   "outputs": [
    {
     "name": "stdout",
     "output_type": "stream",
     "text": [
      "\n",
      "Episodic semi-gradient TD(lambda) evaluating random policy\n",
      "Average reward per episode over 100 episodes: 0.002955999999999999\n"
     ]
    }
   ],
   "source": [
    "print(\"\\nEpisodic semi-gradient TD(lambda) evaluating random policy\")\n",
    "print(\"Average reward per episode over\", 100, \"episodes:\", np.mean(sg_tdlambda_rewards[-100:]))"
   ]
  },
  {
   "cell_type": "code",
   "execution_count": 37,
   "id": "c181156a",
   "metadata": {},
   "outputs": [
    {
     "data": {
      "image/png": "[encoded data removed]",
      "text/plain": [
       "<Figure size 640x480 with 1 Axes>"
      ]
     },
     "metadata": {},
     "output_type": "display_data"
    },
    {
     "name": "stdout",
     "output_type": "stream",
     "text": [
      "\n",
      "\n",
      "Semi-Gradient TD(lambda)\n",
      "Average reward per episode every 100 episodes: 0.002955999999999999\n"
     ]
    }
   ],
   "source": [
    "plot_values(4000, sg_tdlambda_rewards, 'Semi-Gradient TD(lambda) Rewards')\n",
    "\n",
    "print(\"\")\n",
    "print(\"\\nSemi-Gradient TD(lambda)\")\n",
    "print(\"Average reward per episode every 100 episodes:\", np.mean(sg_tdlambda_rewards[-100:]))"
   ]
  },
  {
   "cell_type": "code",
   "execution_count": null,
   "id": "a2179950",
   "metadata": {},
   "outputs": [],
   "source": []
  }
 ],
 "metadata": {
  "kernelspec": {
   "display_name": "Python 3 (ipykernel)",
   "language": "python",
   "name": "python3"
  },
  "language_info": {
   "codemirror_mode": {
    "name": "ipython",
    "version": 3
   },
   "file_extension": ".py",
   "mimetype": "text/x-python",
   "name": "python",
   "nbconvert_exporter": "python",
   "pygments_lexer": "ipython3",
   "version": "3.10.10"
  }
 },
 "nbformat": 4,
 "nbformat_minor": 5
}
